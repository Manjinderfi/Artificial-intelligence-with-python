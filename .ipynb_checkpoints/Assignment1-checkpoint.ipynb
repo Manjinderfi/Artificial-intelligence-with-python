{
 "cells": [
  {
   "cell_type": "markdown",
   "id": "cfadb4bd",
   "metadata": {},
   "source": [
    "## Exercises\n",
    "<br>\n",
    "1- Draw the lines\n",
    "<br>\n",
    "$y = 2x + 1$,\n",
    "<br>\n",
    "$y = 2x + 2$, \n",
    "<br>\n",
    "$y = 2x + 3$\n",
    "\n",
    "in the same figure.\n",
    "\n",
    "<br>\n",
    "\n",
    "Use different drawing colors and line types for your graphs to make them stand out in black and white. Set the image title and labels for the horizontal and vertical axes.\n",
    "\n",
    "<br>\n",
    "\n",
    "2- Create a numpy vector $x$ that contains the values $1,2,3,4,5,6,7,8,9$.\n",
    "\n",
    "Create another vector $y$ with the values $-0.57, -2.57, -4.80, -7.36, -8.78, -10.52, -12.85, -14.69, -16.78$.\n",
    "\n",
    "Draw the scattering pattern of the points $(x, y)$. Use the + symbol to represent points.\n",
    "\n",
    "<br>\n",
    "\n",
    "3- Read from CSV-file `weight-height.csv` to numpy-table information about the lengths and weights (in inches and pounds) of a group of students. Collect the lengths for the variable `length` and the weights for the variable `weight` by cutting the table.\n",
    "\n",
    "<br>\n",
    "\n",
    "Convert lengths from inches to centimeters and weights from pounds to kilograms.\n",
    "\n",
    "Calculate the means of the lengths and weights.\n",
    "\n",
    "Finally draw a histogram of the lengths.\n",
    "\n",
    "<br>\n",
    "\n",
    "4- Calculate the inverse matrix of matrix $A$ and  check with the matrix product that both $A A^{- 1}$ and $A^{- 1}$ A produce a unit matrix with ones in diagonals and zeros elsewhere (the values will not be exactly 1 and 0 due to floating point error).\n",
    "\n",
    "$A=\\begin{pmatrix} 1&2&3\\\\ 0&1&4\\\\ 5&6&0 \\end{pmatrix}$\n",
    "\n",
    "\n"
   ]
  }
 ],
 "metadata": {
  "kernelspec": {
   "display_name": "Python 3 (ipykernel)",
   "language": "python",
   "name": "python3"
  },
  "language_info": {
   "codemirror_mode": {
    "name": "ipython",
    "version": 3
   },
   "file_extension": ".py",
   "mimetype": "text/x-python",
   "name": "python",
   "nbconvert_exporter": "python",
   "pygments_lexer": "ipython3",
   "version": "3.9.12"
  }
 },
 "nbformat": 4,
 "nbformat_minor": 5
}
